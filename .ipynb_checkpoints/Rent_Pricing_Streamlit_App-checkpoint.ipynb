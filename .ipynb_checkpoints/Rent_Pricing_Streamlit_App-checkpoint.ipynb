{
 "cells": [
  {
   "cell_type": "code",
   "execution_count": 3,
   "id": "0e496839-e92e-4d7d-8bbe-181926bdb3f7",
   "metadata": {},
   "outputs": [],
   "source": [
    "# !pip install streamlit"
   ]
  },
  {
   "cell_type": "code",
   "execution_count": 12,
   "id": "d94fa630-c46d-4323-bee7-3638d26a61f0",
   "metadata": {},
   "outputs": [],
   "source": [
    "import streamlit as st\n",
    "import pandas as pd\n",
    "import numpy as np\n",
    "import pickle"
   ]
  },
  {
   "cell_type": "code",
   "execution_count": 13,
   "id": "8890fbda-3694-4fe8-910c-0480bf657959",
   "metadata": {},
   "outputs": [],
   "source": [
    "# Load the pickled model and preprocessor\n",
    "with open('data/rent_pricing_model.pkl', 'rb') as f:\n",
    "    model = pickle.load(f)\n",
    "with open('data/rent_pricing_preprocessor.pkl', 'rb') as f:\n",
    "    preprocessor = pickle.load(f)"
   ]
  },
  {
   "cell_type": "code",
   "execution_count": 14,
   "id": "01b990a7-559a-44d3-ac68-4fd8de00e2dc",
   "metadata": {},
   "outputs": [],
   "source": [
    "# Define the app\n",
    "def run():\n",
    "    st.title(\"Predictive Rent Pricing Model for Kuala Lumpur and Selangor Apartments\")\n",
    "    \n",
    "    # Input features\n",
    "    completion_year = st.number_input('Completion Year', min_value=1900, max_value=2100)\n",
    "    location = st.selectbox('Location', ['Kuala Lumpur', 'Selangor'])\n",
    "    property_type = st.selectbox('Property Type', ['Condominium', 'Apartment'])\n",
    "    rooms = st.slider('Number of Rooms', 1, 10)\n",
    "    parking = st.slider('Number of Parking Spaces', 0, 5)\n",
    "    bathroom = st.slider('Number of Bathrooms', 1, 5)\n",
    "    size = st.number_input('Size (in sqft)', min_value=100)\n",
    "\n",
    "    # Placeholder for additional fields\n",
    "    prop_name = st.text_input('Property Name')\n",
    "    furnished = st.selectbox('Furnished', ['Yes', 'No'])\n",
    "    facilities = st.text_input('Facilities')\n",
    "    additional_facilities = st.text_input('Additional Facilities')\n",
    "    region = st.selectbox('Region', ['Region1', 'Region2'])  # Adjust this according to your data\n",
    "\n",
    "    # Create a dataframe from the inputs\n",
    "    input_data = pd.DataFrame({\n",
    "        'completion_year': [completion_year],\n",
    "        'location': [location],\n",
    "        'property_type': [property_type],\n",
    "        'rooms': [rooms],\n",
    "        'parking': [parking],\n",
    "        'bathroom': [bathroom],\n",
    "        'size': [size],\n",
    "        'prop_name': [prop_name],\n",
    "        'furnished': [furnished],\n",
    "        'facilities': [facilities],\n",
    "        'additional_facilities': [additional_facilities],\n",
    "        'region': [region]\n",
    "    })\n",
    "\n",
    "    # Preprocess the input data\n",
    "    input_data_preprocessed = preprocessor.transform(input_data)\n",
    "\n",
    "    # Make predictions\n",
    "    if st.button(\"Predict Rent\"):\n",
    "        prediction = model.predict(input_data_preprocessed)\n",
    "        st.write(\"The predicted monthly rent is: \", prediction)\n"
   ]
  },
  {
   "cell_type": "code",
   "execution_count": 15,
   "id": "6611336f-6876-4165-a0e2-932aa2643abc",
   "metadata": {},
   "outputs": [],
   "source": [
    "# Run the app\n",
    "if __name__ == '__main__':\n",
    "    run()"
   ]
  },
  {
   "cell_type": "code",
   "execution_count": null,
   "id": "b5039fd4-f3ef-4f4e-a918-0f46b71e58c1",
   "metadata": {},
   "outputs": [],
   "source": []
  }
 ],
 "metadata": {
  "kernelspec": {
   "display_name": "Python 3 (ipykernel)",
   "language": "python",
   "name": "python3"
  },
  "language_info": {
   "codemirror_mode": {
    "name": "ipython",
    "version": 3
   },
   "file_extension": ".py",
   "mimetype": "text/x-python",
   "name": "python",
   "nbconvert_exporter": "python",
   "pygments_lexer": "ipython3",
   "version": "3.10.9"
  }
 },
 "nbformat": 4,
 "nbformat_minor": 5
}
